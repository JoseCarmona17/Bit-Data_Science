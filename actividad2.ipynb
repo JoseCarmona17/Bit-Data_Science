{
 "cells": [
  {
   "cell_type": "code",
   "execution_count": null,
   "id": "7b2cc82a",
   "metadata": {},
   "outputs": [],
   "source": [
    "# Actividad 2: Control de flujo - Clasificación de Estudiantes\n",
    "# Usar bucles y condiciones para clasificar edades y buscar nombres en una lista de estudiantes.\n",
    "\n",
    "# #### Parte 1: Bucle for con edades\n",
    "\n",
    "# Crea una lista de edades: [12, 17, 8, 15, 22, 9, 30, 25].\n",
    "# Usa un bucle for para iterar sobre cada edad:\n",
    "# Si la edad es 25, imprime \"¡Encontramos al estudiante de 25 años! Deteniendo el análisis.\" y termina el bucle con break.\n",
    "# Si la edad es menor a 10, omite esa iteración con continue.\n",
    "# Si la edad es 18 o mayor, imprime \"Adulto: [edad] años\".\n",
    "# En cualquier otro caso, imprime \"Menor: [edad] años\".\n",
    "\n"
   ]
  },
  {
   "cell_type": "code",
   "execution_count": 1,
   "id": "dafd802c",
   "metadata": {},
   "outputs": [
    {
     "name": "stdout",
     "output_type": "stream",
     "text": [
      "Menor: 12 años\n",
      "Menor: 17 años\n",
      "Menor: 15 años\n",
      "Adulto: 22 años\n",
      "Adulto: 30 años\n",
      "¡Encontramos al estudiante de 25 años! Deteniendo el análisis.\n"
     ]
    }
   ],
   "source": [
    "ages = [12, 17, 8, 15, 22, 9, 30, 25]\n",
    "\n",
    "for age in ages:\n",
    "    if age == 25:\n",
    "        print(\"¡Encontramos al estudiante de 25 años! Deteniendo el análisis.\")\n",
    "        break\n",
    "    if age < 10:\n",
    "        continue\n",
    "    if age >= 18:\n",
    "        print(f\"Adulto: {age} años\")\n",
    "    else:\n",
    "        print(f\"Menor: {age} años\")"
   ]
  },
  {
   "cell_type": "code",
   "execution_count": null,
   "id": "75fb6060",
   "metadata": {},
   "outputs": [],
   "source": [
    "# #### Parte 2: Bucle while con nombres\n",
    "# Crea una lista de nombres: [\"Juan\", \"Pedro\", \"Jorge\", \"María\",\"Ana\"].\n",
    "# Usa un bucle while para iterar sobre los nombres:\n",
    "# Si el nombre es \"Ana\", imprime \"¡Ana está en la lista!\" y termina el bucle con break.\n",
    "# Si el nombre empieza con \"J\", omite ese nombre con continue.\n",
    "# En cualquier otro caso, imprime el nombre."
   ]
  },
  {
   "cell_type": "code",
   "execution_count": 2,
   "id": "0653fc1f",
   "metadata": {},
   "outputs": [
    {
     "name": "stdout",
     "output_type": "stream",
     "text": [
      "Pedro\n",
      "María\n",
      "¡Ana está en la lista!\n"
     ]
    }
   ],
   "source": [
    "names = [\"Juan\", \"Pedro\", \"Jorge\", \"María\", \"Ana\"]\n",
    "index = 0\n",
    "while index < len(names):\n",
    "    name = names[index]\n",
    "    if name == \"Ana\":\n",
    "        print(\"¡Ana está en la lista!\")\n",
    "        break\n",
    "    if name.startswith(\"J\"):\n",
    "        index += 1\n",
    "        continue\n",
    "    print(name)\n",
    "    index += 1"
   ]
  }
 ],
 "metadata": {
  "kernelspec": {
   "display_name": "Python (base - conda)",
   "language": "python",
   "name": "base"
  },
  "language_info": {
   "codemirror_mode": {
    "name": "ipython",
    "version": 3
   },
   "file_extension": ".py",
   "mimetype": "text/x-python",
   "name": "python",
   "nbconvert_exporter": "python",
   "pygments_lexer": "ipython3",
   "version": "3.12.3"
  }
 },
 "nbformat": 4,
 "nbformat_minor": 5
}
