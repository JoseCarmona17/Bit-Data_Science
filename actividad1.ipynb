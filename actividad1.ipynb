{
 "cells": [
  {
   "cell_type": "code",
   "execution_count": 2,
   "id": "7f233e7a",
   "metadata": {},
   "outputs": [],
   "source": [
    "# Actividad 1 - Estructuras y tipos de datos\n",
    "# Objetivo: Administrar un inventario de una tienda\n",
    "\n",
    "# Inventario inicial:\n",
    "\n",
    "# inventario = [\n",
    "#     {\"producto\": \"camisa\", \"precio\": 25900, \"stock\": \"11\"},\n",
    "#     {\"producto\": \"pantalón\", \"precio\": 39900, \"stock\": \"23\"},\n",
    "# ]\n",
    "# Añade un nuevo producto al inventario con las siguientes caracteristicas:\n",
    "# {\"producto\": \"abrigo\", \"precio\": 50000, \"stock\": \"2\"}\n",
    "# Convierte los valores del stock en numeros enteros\n",
    "# Actualiza el precio de cada producto sumando 10000 al precio original\n",
    "# Imprime cada producto del inventario y sus caracteristicas con el siguiente formato:\n",
    "# print(f\"Hay {stock} unidades del producto {producto}. Su precio por unidad es de {precio}\")\n",
    "\n",
    "inventario = [\n",
    "    {\"producto\": \"camisa\", \"precio\": 25900, \"stock\": \"11\"},\n",
    "    {\"producto\": \"pantalón\", \"precio\": 39900, \"stock\": \"23\"},\n",
    "]"
   ]
  },
  {
   "cell_type": "code",
   "execution_count": 3,
   "id": "85e9c4f5",
   "metadata": {},
   "outputs": [
    {
     "name": "stdout",
     "output_type": "stream",
     "text": [
      "Hay 11 unidades del producto camisa. Su precio por unidad es de 35900\n",
      "Hay 23 unidades del producto pantalón. Su precio por unidad es de 49900\n",
      "Hay 2 unidades del producto abrigo. Su precio por unidad es de 60000\n"
     ]
    }
   ],
   "source": [
    "new_product = {\"producto\": \"abrigo\", \"precio\": 50000, \"stock\": \"2\"}\n",
    "inventario.append(new_product)\n",
    "for item in inventario:\n",
    "    item[\"stock\"] = int(item[\"stock\"])\n",
    "    item[\"precio\"] += 10000\n",
    "    print(f\"Hay {item['stock']} unidades del producto {item['producto']}. Su precio por unidad es de {item['precio']}\")\n",
    "    "
   ]
  }
 ],
 "metadata": {
  "kernelspec": {
   "display_name": "Python (base - conda)",
   "language": "python",
   "name": "base"
  },
  "language_info": {
   "codemirror_mode": {
    "name": "ipython",
    "version": 3
   },
   "file_extension": ".py",
   "mimetype": "text/x-python",
   "name": "python",
   "nbconvert_exporter": "python",
   "pygments_lexer": "ipython3",
   "version": "3.12.3"
  }
 },
 "nbformat": 4,
 "nbformat_minor": 5
}
